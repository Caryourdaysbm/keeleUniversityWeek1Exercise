{
  "cells": [
    {
      "cell_type": "markdown",
      "metadata": {
        "id": "view-in-github",
        "colab_type": "text"
      },
      "source": [
        "<a href=\"https://colab.research.google.com/github/Caryourdaysbm/keeleUniversityWeek1Exercise/blob/main/Assignment_week_1_TASK.ipynb\" target=\"_parent\"><img src=\"https://colab.research.google.com/assets/colab-badge.svg\" alt=\"Open In Colab\"/></a>"
      ]
    },
    {
      "cell_type": "markdown",
      "metadata": {
        "id": "PAXr9HhTwW24"
      },
      "source": [
        "# Formative assignment Week 1 TASK ####"
      ]
    },
    {
      "cell_type": "markdown",
      "metadata": {
        "id": "pqFNuq_ytKzz"
      },
      "source": [
        "#### This formative exercise is about days between two dates, a date a book is borrowed and the date that it is returned."
      ]
    },
    {
      "cell_type": "markdown",
      "metadata": {
        "id": "QKuvSCPAt9VL"
      },
      "source": [
        "#### EXAMPLE\n",
        "\n",
        "Here is an example of code that calculates the difference between two dates in days, with an explanation:"
      ]
    },
    {
      "cell_type": "code",
      "execution_count": null,
      "metadata": {
        "id": "4S7YTE3ZvmUm",
        "outputId": "79a00159-9523-4331-9133-a1abd9bf90c2"
      },
      "outputs": [
        {
          "name": "stdout",
          "output_type": "stream",
          "text": [
            "Difference in days: 5 days\n"
          ]
        }
      ],
      "source": [
        "from datetime import datetime\n",
        "\n",
        "# Input dates in string format\n",
        "date_str1 = '2023-06-20'\n",
        "date_str2 = '2023-06-24'\n",
        "\n",
        "# Convert input dates to datetime objects\n",
        "date1 = datetime.strptime(date_str1, '%Y-%m-%d')\n",
        "date2 = datetime.strptime(date_str2, '%Y-%m-%d')\n",
        "\n",
        "# Calculate the difference in days\n",
        "days_difference = (date2 - date1).days\n",
        "\n",
        "# Add a day borrowed because any borrowed book is borrowed for at least one day\n",
        "days_difference += 1\n",
        "\n",
        "# Print the result\n",
        "print(f\"Difference in days: {days_difference} days\")\n"
      ]
    },
    {
      "cell_type": "markdown",
      "metadata": {
        "id": "nYN3QvFWvmUq"
      },
      "source": [
        "#### Explanation of the code\n",
        "\n",
        "\n",
        "In our code, we are calculating the difference in days between two dates and adding an extra day to represent the minimum duration for a borrowed book. Let's break down our code and explain each part:\n",
        "\n",
        "We import the datetime class from the datetime module, which is necessary to work with these date and time objects.\n",
        "\n",
        "We have two input dates provided as strings: date_str1 and date_str2. These dates are in the format 'YYYY-MM-DD'.\n",
        "\n",
        "Using the datetime.strptime function, we convert these input strings into datetime objects:\n",
        "\n",
        "date1 is the datetime object representing the first date, '2023-06-20'.\n",
        "date2 is the datetime object representing the second date, '2023-06-24'.\n",
        "\n",
        "We calculate the difference in days between the two dates using (date2 - date1).days. This subtraction results in a timedelta object, and .days extracts the number of days as an integer.\n",
        "\n",
        "Next, we add 1 to days_difference to account for the minimum duration a borrowed book is considered to be borrowed, ensuring that even if the book is borrowed and returned on the same day, it's counted as one day borrowed. This is justified by a use case assumption.\n",
        "\n",
        "Finally, we print the result, which is the difference in days between the two input dates, including the additional day for the borrowed book.\n",
        "\n",
        "This code is useful to calculate the effective number of days something was borrowed, taking into account that any borrowed item is considered borrowed for at least one day."
      ]
    },
    {
      "cell_type": "markdown",
      "metadata": {
        "id": "yM6UqmeVvmUr"
      },
      "source": [
        "---"
      ]
    },
    {
      "cell_type": "markdown",
      "metadata": {
        "id": "2nCpBVxivmUs"
      },
      "source": [
        "#### TASK\n",
        "\n",
        "#### The Assignment task is to find the days a book is on loan, how many days it is late if any, and the late fee chargeable if any."
      ]
    },
    {
      "cell_type": "code",
      "execution_count": 12,
      "metadata": {
        "colab": {
          "base_uri": "https://localhost:8080/"
        },
        "id": "T4N60rtcukzs",
        "outputId": "9a8d8eb5-d75f-45b3-e05f-5a3c3b81b618"
      },
      "outputs": [
        {
          "output_type": "stream",
          "name": "stdout",
          "text": [
            "Book Number: 1\n",
            "Title: The Hunger Games\n",
            "Author: Suzanne Collins\n",
            "Genre: Young Adult Fiction\n",
            "Date of Loan: 2023-06-20\n",
            "Date of Return: 2023-06-24\n",
            "Days borrowed: 5\n",
            "Days late: 3\n",
            "Late fee: 1.5\n"
          ]
        }
      ],
      "source": [
        "from datetime import datetime\n",
        "\n",
        "# Constants\n",
        "DAY_LATE_FEE = 0.50\n",
        "\n",
        "# Input data\n",
        "book_number = 1\n",
        "title = 'The Hunger Games'\n",
        "author = 'Suzanne Collins'\n",
        "genre = 'Young Adult Fiction'\n",
        "date_of_loan = '2023-06-20'\n",
        "date_of_return = '2023-06-24'  # Assume a date to levy a fine\n",
        "\n",
        "# Convert input dates to datetime objects\n",
        "date_loan = datetime.strptime(date_of_loan, '%Y-%m-%d')\n",
        "date_return = datetime.strptime(date_of_return, '%Y-%m-%d')\n",
        "\n",
        "# Calculate the number of days a book was borrowed\n",
        "# Assume a use case that a book borrowed and returned the same day is borrowed for one day\n",
        "# TODO: Calculate the 'days_borrowed' correctly\n",
        "days_borrowed = (date_return - date_loan).days + 1\n",
        "\n",
        "# TODO: Calculate the 'days_late' and 'late_fee' based on the 'days_borrowed' and 'DAY_LATE_FEE'\n",
        "days_late = 0\n",
        "if days_borrowed < 2:\n",
        "  days_late == 0\n",
        "else:\n",
        "  days_late = days_borrowed - 2\n",
        "\n",
        "late_fee = days_late * DAY_LATE_FEE\n",
        "# Leave this part as it is; no changes required\n",
        "print(f\"Book Number: {book_number}\")\n",
        "print(f\"Title: {title}\")\n",
        "print(f\"Author: {author}\")\n",
        "print(f\"Genre: {genre}\")\n",
        "print(f\"Date of Loan: {date_loan.strftime('%Y-%m-%d')}\")\n",
        "print(f\"Date of Return: {date_return.strftime('%Y-%m-%d')}\")\n",
        "\n",
        "# TODO: Print the results with appropriate labels\n",
        "print(f\"Days borrowed: {days_borrowed}\")\n",
        "print(f\"Days late: {days_late}\")\n",
        "print(f\"Late fee: {late_fee}\")"
      ]
    }
  ],
  "metadata": {
    "colab": {
      "provenance": [],
      "collapsed_sections": [
        "QKuvSCPAt9VL"
      ],
      "include_colab_link": true
    },
    "kernelspec": {
      "display_name": "Python 3",
      "name": "python3"
    },
    "language_info": {
      "codemirror_mode": {
        "name": "ipython",
        "version": 3
      },
      "file_extension": ".py",
      "mimetype": "text/x-python",
      "name": "python",
      "nbconvert_exporter": "python",
      "pygments_lexer": "ipython3",
      "version": "3.10.5"
    }
  },
  "nbformat": 4,
  "nbformat_minor": 0
}